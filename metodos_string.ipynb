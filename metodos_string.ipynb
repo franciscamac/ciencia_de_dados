{
  "nbformat": 4,
  "nbformat_minor": 0,
  "metadata": {
    "colab": {
      "provenance": [],
      "authorship_tag": "ABX9TyMPq5nuQEEB/bMz2f0naZBF",
      "include_colab_link": true
    },
    "kernelspec": {
      "name": "python3",
      "display_name": "Python 3"
    },
    "language_info": {
      "name": "python"
    }
  },
  "cells": [
    {
      "cell_type": "markdown",
      "metadata": {
        "id": "view-in-github",
        "colab_type": "text"
      },
      "source": [
        "<a href=\"https://colab.research.google.com/github/franciscamac/ciencia_de_dados/blob/main/metodos_string.ipynb\" target=\"_parent\"><img src=\"https://colab.research.google.com/assets/colab-badge.svg\" alt=\"Open In Colab\"/></a>"
      ]
    },
    {
      "cell_type": "code",
      "execution_count": null,
      "metadata": {
        "id": "LsIjnDGxU1Gk"
      },
      "outputs": [],
      "source": [
        "curso = \"pYtHon\"\n",
        "print(curso.upper())\n",
        "print(curso.lower())\n",
        "print(curso.title())\n",
        "\n",
        "\n",
        "\n",
        "\n",
        "\n",
        "texto = \"  Olá mundo!    \"\n",
        "print(texto.strip()+ \".\")\n",
        "print(texto.rstrip()+ \".\")\n",
        "print(texto.lstrip()+ \".\")"
      ]
    }
  ]
}