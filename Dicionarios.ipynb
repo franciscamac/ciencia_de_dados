{
  "nbformat": 4,
  "nbformat_minor": 0,
  "metadata": {
    "colab": {
      "provenance": [],
      "authorship_tag": "ABX9TyM00A2IoQmdEeiOTp08Rm9t",
      "include_colab_link": true
    },
    "kernelspec": {
      "name": "python3",
      "display_name": "Python 3"
    },
    "language_info": {
      "name": "python"
    }
  },
  "cells": [
    {
      "cell_type": "markdown",
      "metadata": {
        "id": "view-in-github",
        "colab_type": "text"
      },
      "source": [
        "<a href=\"https://colab.research.google.com/github/franciscamac/ciencia_de_dados/blob/main/Dicionarios.ipynb\" target=\"_parent\"><img src=\"https://colab.research.google.com/assets/colab-badge.svg\" alt=\"Open In Colab\"/></a>"
      ]
    },
    {
      "cell_type": "code",
      "execution_count": null,
      "metadata": {
        "id": "4dfiiAD0PmYs"
      },
      "outputs": [],
      "source": [
        "pessoa = {\"nome\": \"Fran\", \"idade\": 24}\n",
        "\n",
        "pessoa = dict(nome=\"Fran\", idade =24)\n",
        "\n",
        "pessoa[\"telefone\"] = \"3333-1314\"  #{\"nome\": \"Fran\", \"idade\": 24, \"telefone\": \"3333-1314\"}\n",
        "\n",
        "print(pessoa)\n",
        "#alterar\n",
        "\n",
        "pessoa[\"nome\"] = \"Narf\"\n",
        "pessoa[\"idade\"] = \"25\"\n",
        "pessoa[\"telefone\"] = \"3333-1213\"\n",
        "\n",
        "print(\":::::Alterado:::::\")\n",
        "print(pessoa)\n",
        "\n",
        "#Dicionarios aninhados\n",
        "contatos = {\n",
        "    \"franpms89@gmail.com\": {\"nome\": \"Fran\", \"telefone\": \"2333-8989\"},\n",
        "    \"narf\" : {\"nome\": \"Narf\", \"telefone\": \"5456-5546\"}\n",
        "\n",
        "}\n",
        "telefone = contatos[\"franpms89@gmail.com\"] [\"telefone\"]\n",
        "print(telefone)\n",
        "nome = contatos[\"narf\"] [\"nome\"]\n",
        "print(nome)\n",
        "\n",
        "#Iterar Dicionários\n",
        "#percorrer dados com o for\n",
        "\n",
        "for chave in contatos:\n",
        "    print(chave, contatos[chave])\n",
        "#ou\n",
        "for chave, valor in contatos.items():\n",
        "    print(chave, valor)"
      ]
    }
  ]
}