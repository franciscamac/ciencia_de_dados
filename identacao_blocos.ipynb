{
  "nbformat": 4,
  "nbformat_minor": 0,
  "metadata": {
    "colab": {
      "provenance": [],
      "authorship_tag": "ABX9TyMMgrEw1NPaMRt2+tLlfBAu",
      "include_colab_link": true
    },
    "kernelspec": {
      "name": "python3",
      "display_name": "Python 3"
    },
    "language_info": {
      "name": "python"
    }
  },
  "cells": [
    {
      "cell_type": "markdown",
      "metadata": {
        "id": "view-in-github",
        "colab_type": "text"
      },
      "source": [
        "<a href=\"https://colab.research.google.com/github/franciscamac/ciencia_de_dados/blob/main/identacao_blocos.ipynb\" target=\"_parent\"><img src=\"https://colab.research.google.com/assets/colab-badge.svg\" alt=\"Open In Colab\"/></a>"
      ]
    },
    {
      "cell_type": "code",
      "execution_count": null,
      "metadata": {
        "id": "KoyRQnt5TI3J"
      },
      "outputs": [],
      "source": [
        "def sacar (valor):\n",
        "    saldo = 500\n",
        "\n",
        "    if saldo >= valor:\n",
        "        print(\"valor sacado\")\n",
        "\n",
        "    print(\"Obrigado por ser nosso cliente! \")\n",
        "\n",
        "def depositar(valor):\n",
        "    saldo = 500\n",
        "    saldo += valor\n",
        "sacar(1000)"
      ]
    }
  ]
}