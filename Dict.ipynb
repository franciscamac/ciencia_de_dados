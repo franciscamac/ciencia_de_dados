{
  "nbformat": 4,
  "nbformat_minor": 0,
  "metadata": {
    "colab": {
      "provenance": [],
      "authorship_tag": "ABX9TyNt9/o9RJbejqHl6/dG+Vt2",
      "include_colab_link": true
    },
    "kernelspec": {
      "name": "python3",
      "display_name": "Python 3"
    },
    "language_info": {
      "name": "python"
    }
  },
  "cells": [
    {
      "cell_type": "markdown",
      "metadata": {
        "id": "view-in-github",
        "colab_type": "text"
      },
      "source": [
        "<a href=\"https://colab.research.google.com/github/franciscamac/ciencia_de_dados/blob/main/Dict.ipynb\" target=\"_parent\"><img src=\"https://colab.research.google.com/assets/colab-badge.svg\" alt=\"Open In Colab\"/></a>"
      ]
    },
    {
      "cell_type": "code",
      "execution_count": null,
      "metadata": {
        "id": "q-eBDMzdP4hs"
      },
      "outputs": [],
      "source": [
        "contatos = {\n",
        "    \"franpms89@gmail.com\": {\"nome\": \"Fran\", \"telefone\": \"2333-8989\"},\n",
        "    \"narf\" : {\"nome\": \"Narf\", \"telefone\": \"5456-5546\"},\n",
        "    \"franmacri@gmail.com\": {\"nome\": \"Macri\", \"telefone\": \"7898-5645\"}\n",
        "}\n",
        "\n",
        "#values\n",
        "print(\"::::::::: VALUES ::::::::::\\n\")\n",
        "print(contatos.values())\n",
        "\n",
        "# in\n",
        "print(\"::::::::: IN :::::::::: \\n\")\n",
        "resultado = \"narf\" in contatos\n",
        "print(resultado)\n",
        "\n",
        "resultado = \"telefone\" in contatos[\"franmacri@gmail.com\"]\n",
        "print(resultado)\n",
        "\n",
        "#copy ou copia\n",
        "print(\"::::::::: COPY :::::::::: \\n\")\n",
        "copia = contatos.copy()\n",
        "copia[\"franmacri@gmail.com\"] = {\"nome\": \"fran\"}\n",
        "\n",
        "contatos[\"franmacri@gmail.com\"] #{\"nome\": \"macri\", \"telefone\": \"7898-5645\"}\n",
        "copia[\"franmacri@gmail.com\"] #{\"nome\": \"fran\"}\n",
        "\n",
        "# fromkeys\n",
        "print(\"::::::::: FROMKEYS :::::::::: \\n\")\n",
        "dict.fromkeys([\"nome\", \"telefone\"])\n",
        "dict.fromkeys([\"nome\", \"telefone\"], \"vazio\")\n",
        "\n",
        "#get\n",
        "#contatos[\"chave\"] #keyError\n",
        "print(\"::::::::: GET ::::::::::\\n\")\n",
        "contatos.get(\"chave\") # None\n",
        "contatos.get(\"chave\", {}) # {}\n",
        "print(contatos.get(\"franpms89@gmail.com\", {}))\n",
        "\n",
        "#items\n",
        "print(\"::::::::: ITEMS ::::::::::\\n\")\n",
        "print(contatos.items())\n",
        "\n",
        "#keys\n",
        "print(\"::::::::: KEYS ::::::::::\\n\")\n",
        "print(contatos.keys())\n",
        "\n",
        "novo_dicionario = {\"a\": 100, 1:\"teste\", \"b\": \"python\"}\n",
        "print(novo_dicionario.keys())\n",
        "\n",
        "#setdefault busca ou adciona caso não exista\n",
        "print(\"::::::::: SETDEFAULT ::::::::::\\n\")\n",
        "contato = {\"nome\": \"Francisca\", \"tel\": \"7897-6545\"}\n",
        "#contato.setdefault(\"nome\", \"Narf\")\n",
        "\n",
        "contato.setdefault(\"idade\", 24)\n",
        "print(contato)\n",
        "\n",
        "#update\n",
        "print(\"::::::::: UPDATE ::::::::::\")\n",
        "contatos.update({\"franpms89@gmail.com\": {\"nome\": \"fra\"}})\n",
        "print(contatos)\n",
        "\n",
        "#pop remove\n",
        "print(\"::::::::: POP ::::::::::\\n\")\n",
        "print(contatos.popitem())\n",
        "\n",
        "#clear ou limpar\n",
        "print(\"::::::::: CLEAR ::::::::::\\n\")\n",
        "print(contatos.clear())\n",
        "\n"
      ]
    }
  ]
}