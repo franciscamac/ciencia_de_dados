{
  "nbformat": 4,
  "nbformat_minor": 0,
  "metadata": {
    "colab": {
      "provenance": [],
      "authorship_tag": "ABX9TyOTCzWWfrcrMhyGqhNWN9RY",
      "include_colab_link": true
    },
    "kernelspec": {
      "name": "python3",
      "display_name": "Python 3"
    },
    "language_info": {
      "name": "python"
    }
  },
  "cells": [
    {
      "cell_type": "markdown",
      "metadata": {
        "id": "view-in-github",
        "colab_type": "text"
      },
      "source": [
        "<a href=\"https://colab.research.google.com/github/franciscamac/ciencia_de_dados/blob/main/Estrutura_de_dados_tenaria.ipynb\" target=\"_parent\"><img src=\"https://colab.research.google.com/assets/colab-badge.svg\" alt=\"Open In Colab\"/></a>"
      ]
    },
    {
      "cell_type": "code",
      "execution_count": null,
      "metadata": {
        "id": "NkGXi4fDQrxa"
      },
      "outputs": [],
      "source": [
        "saldo = 2000\n",
        "saque = 2000\n",
        "status = \"Sucesso\" if saldo >= saque else \"Falha\"\n",
        "print(f\"{status} ao realizar o saque!\")"
      ]
    }
  ]
}