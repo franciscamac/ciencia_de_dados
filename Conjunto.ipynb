{
  "nbformat": 4,
  "nbformat_minor": 0,
  "metadata": {
    "colab": {
      "provenance": [],
      "authorship_tag": "ABX9TyN7So5GLdPHSAjwRRv4zEEF",
      "include_colab_link": true
    },
    "kernelspec": {
      "name": "python3",
      "display_name": "Python 3"
    },
    "language_info": {
      "name": "python"
    }
  },
  "cells": [
    {
      "cell_type": "markdown",
      "metadata": {
        "id": "view-in-github",
        "colab_type": "text"
      },
      "source": [
        "<a href=\"https://colab.research.google.com/github/franciscamac/ciencia_de_dados/blob/main/Conjunto.ipynb\" target=\"_parent\"><img src=\"https://colab.research.google.com/assets/colab-badge.svg\" alt=\"Open In Colab\"/></a>"
      ]
    },
    {
      "cell_type": "code",
      "execution_count": null,
      "metadata": {
        "id": "3738ab2FPMya"
      },
      "outputs": [],
      "source": [
        "#sets\n",
        "numero = set([1,2,3,4,2,1,3])  #{1,2,3,4}\n",
        "print(numero)\n",
        "fruta = set(\"abacaxi\") #{\"b\", \"a\", \"c\", \"x\", \"i\"}\n",
        "print(fruta)\n",
        "carro1 = set((\"palio\", \"gol\", \"celta\", \"palio\")) #{ \"gol\", \"celta\", \"palio\"}\n",
        "print(carro1)\n",
        "\n",
        "#acessando os dados\n",
        "\n",
        "print(\":::ACESSANDO OS DADOS:::\")\n",
        "numeros ={1,2,3,4}\n",
        "numeros = list(numeros)\n",
        "print(numeros[0])\n",
        "\n",
        "#interar no for\n",
        "carros = {\"gol\", \"celta\", \"palio\"}\n",
        "for carro in carros:\n",
        "    print(carro)\n",
        "\n",
        "#função enumerate\n",
        "print(\"::::Enumerate:::\")\n",
        "for indice, carro in enumerate(carros):\n",
        "    print(f\"{indice}: {carro}\")\n",
        "\n",
        "# union\n",
        "conjunto_a = {1,2}\n",
        "conjunto_b = {3, 4}\n",
        "conjunto_a.union(conjunto_b) #{1,2,3,4}\n",
        "\n",
        "\n",
        "#intersection\n",
        "conjunto_a = {1,2,3}\n",
        "conjunto_b = {2,3,4}\n",
        "conjunto_a.intersection(conjunto_b) #{2, 3}\n",
        "\n",
        "\n",
        "#difference\n",
        "conjunto_a = {1,2,3}\n",
        "conjunto_b = {2,3,4}\n",
        "\n",
        "conjunto_a.difference(conjunto_b) #{1}\n",
        "conjunto_b.difference(conjunto_a) #{4}\n",
        "\n",
        "conjunto_a.symmetric_difference(conjunto_b) #{1, 4}\n",
        "\n",
        "#issubset\n",
        "conjunto_a = {1,2,3}\n",
        "conjunto_b = {4,1,2,5,6,3}\n",
        "\n",
        "conjunto_a.issubset(conjunto_b) #True\n",
        "conjunto_b.issubset(conjunto_a) #False\n",
        "\n",
        "#isdisjoint\n",
        "\n",
        "conjunto_a = {1,2,3,4,5}\n",
        "conjunto_b = {6,7,8,9}\n",
        "conjunto_c = {1,0}\n",
        "\n",
        "conjunto_a.isdisjoint(conjunto_b) #True\n",
        "conjunto_a.isdisjoint(conjunto_c) #False\n",
        "\n",
        "# add\n",
        "sorteio = {1,23}\n",
        "\n",
        "sorteio.add(25) #{1, 23, 25}\n",
        "sorteio.add(42) #{1, 23, 25, 42}"
      ]
    }
  ]
}