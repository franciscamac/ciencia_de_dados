{
  "nbformat": 4,
  "nbformat_minor": 0,
  "metadata": {
    "colab": {
      "provenance": [],
      "authorship_tag": "ABX9TyPakqwqUjM6ibrrBVTjsEMz",
      "include_colab_link": true
    },
    "kernelspec": {
      "name": "python3",
      "display_name": "Python 3"
    },
    "language_info": {
      "name": "python"
    }
  },
  "cells": [
    {
      "cell_type": "markdown",
      "metadata": {
        "id": "view-in-github",
        "colab_type": "text"
      },
      "source": [
        "<a href=\"https://colab.research.google.com/github/franciscamac/ciencia_de_dados/blob/main/fitro.ipynb\" target=\"_parent\"><img src=\"https://colab.research.google.com/assets/colab-badge.svg\" alt=\"Open In Colab\"/></a>"
      ]
    },
    {
      "cell_type": "code",
      "execution_count": null,
      "metadata": {
        "id": "Apj7QYJXS2wq"
      },
      "outputs": [],
      "source": [
        "carros = [\"gol\", \"celta\", \"palio\"]\n",
        "\n",
        "for carro in carros:\n",
        "    print(carro)\n",
        "#Filtro\n",
        "numeros = [1, 30, 21, 2, 9, 65, 34]\n",
        "pares = []\n",
        "\n",
        "for numero in numeros:\n",
        "    if numero % 2 ==0:\n",
        "        pares.append(numero)\n",
        "#filtro versão 2\n",
        "pares = [numero for numero in numeros if numero % 2 == 0]\n",
        "\n",
        "#modificando valores versão 1\n",
        "numeros = [1, 30, 21, 2, 9, 65, 34]\n",
        "quadrado = []\n",
        "\n",
        "for numero in numeros:\n",
        "    quadrado.append(numero ** 2)\n",
        "\n",
        "#modificando valores versão 2\n",
        "numeros = [1, 30, 21, 2, 9, 65, 34]\n",
        "quadrado = [numero ** 2 for numero in numeros]"
      ]
    }
  ]
}