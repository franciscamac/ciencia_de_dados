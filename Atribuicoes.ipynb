{
  "nbformat": 4,
  "nbformat_minor": 0,
  "metadata": {
    "colab": {
      "provenance": [],
      "authorship_tag": "ABX9TyNAVG+7UnZJ1aRDCJdlcbJu",
      "include_colab_link": true
    },
    "kernelspec": {
      "name": "python3",
      "display_name": "Python 3"
    },
    "language_info": {
      "name": "python"
    }
  },
  "cells": [
    {
      "cell_type": "markdown",
      "metadata": {
        "id": "view-in-github",
        "colab_type": "text"
      },
      "source": [
        "<a href=\"https://colab.research.google.com/github/franciscamac/ciencia_de_dados/blob/main/Atribuicoes.ipynb\" target=\"_parent\"><img src=\"https://colab.research.google.com/assets/colab-badge.svg\" alt=\"Open In Colab\"/></a>"
      ]
    },
    {
      "cell_type": "code",
      "execution_count": null,
      "metadata": {
        "id": "-NxmTrnXVcW-"
      },
      "outputs": [],
      "source": [
        "#ATRIBUIÇÃO COM ADIÇÃO\n",
        "saldo = 500\n",
        "saldo +=200\n",
        "print(saldo)\n",
        "\n",
        "#ATRIBUIÇÃO COM SUBTRAÇÃO\n",
        "saldo -=200\n",
        "print(saldo)\n",
        "\n",
        "#ATRIBUIÇÃO COM MULTIPLICAÇÃO\n",
        "saldo *= 300\n",
        "print(saldo)\n",
        "\n",
        "#ATRIBUIÇÃO COM DIVISÃO\n",
        "saldo /=300\n",
        "\n",
        "print(saldo)\n",
        "#ou\n",
        "saldo //=300\n",
        "print(saldo)\n",
        "\n",
        "#ATRIBUIÇÃO COM MÓDULO\n",
        "saldo = 500\n",
        "saldo %=300\n",
        "print(saldo)\n",
        "\n",
        "#ATRIBUIÇÃO COM EXPONENCIAÇÃO\n",
        "saldo = 500\n",
        "saldo **= 2\n",
        "print(saldo)\n",
        "\n"
      ]
    }
  ]
}