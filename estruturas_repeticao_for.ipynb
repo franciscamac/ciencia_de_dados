{
  "nbformat": 4,
  "nbformat_minor": 0,
  "metadata": {
    "colab": {
      "provenance": [],
      "authorship_tag": "ABX9TyPAOQlAU9yHzGYbnUb0sZ8G",
      "include_colab_link": true
    },
    "kernelspec": {
      "name": "python3",
      "display_name": "Python 3"
    },
    "language_info": {
      "name": "python"
    }
  },
  "cells": [
    {
      "cell_type": "markdown",
      "metadata": {
        "id": "view-in-github",
        "colab_type": "text"
      },
      "source": [
        "<a href=\"https://colab.research.google.com/github/franciscamac/ciencia_de_dados/blob/main/estruturas_repeticao_for.ipynb\" target=\"_parent\"><img src=\"https://colab.research.google.com/assets/colab-badge.svg\" alt=\"Open In Colab\"/></a>"
      ]
    },
    {
      "cell_type": "code",
      "execution_count": null,
      "metadata": {
        "id": "jMOjuRSZRwuo"
      },
      "outputs": [],
      "source": [
        "texto = input(\"Informe um texto: \")\n",
        "vogais = \"AEIOU\"\n",
        "\n",
        "for letra in texto:\n",
        "    if letra.upper() in vogais:\n",
        "        print(letra, end=\"\")\n",
        "else:\n",
        "    print()\n",
        "\n",
        "for numero in range(0,51,5):\n",
        "    print(numero, end=\" \")"
      ]
    }
  ]
}