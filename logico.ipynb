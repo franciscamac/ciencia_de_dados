{
  "nbformat": 4,
  "nbformat_minor": 0,
  "metadata": {
    "colab": {
      "provenance": [],
      "authorship_tag": "ABX9TyNyaXeAn0v/+D9eIYSLvCkA",
      "include_colab_link": true
    },
    "kernelspec": {
      "name": "python3",
      "display_name": "Python 3"
    },
    "language_info": {
      "name": "python"
    }
  },
  "cells": [
    {
      "cell_type": "markdown",
      "metadata": {
        "id": "view-in-github",
        "colab_type": "text"
      },
      "source": [
        "<a href=\"https://colab.research.google.com/github/franciscamac/ciencia_de_dados/blob/main/logico.ipynb\" target=\"_parent\"><img src=\"https://colab.research.google.com/assets/colab-badge.svg\" alt=\"Open In Colab\"/></a>"
      ]
    },
    {
      "cell_type": "code",
      "execution_count": null,
      "metadata": {
        "id": "7FUcAEzbUX5l"
      },
      "outputs": [],
      "source": [
        "print(True and True)\n",
        "print(False and False)\n",
        "print(True or True)\n",
        "print(True or False)\n",
        "\n",
        "saldo =1000\n",
        "saque = 250\n",
        "limite = 200\n",
        "conta_especial = True\n",
        "\n",
        "\n",
        "saldo >= saque and saque <= limite or conta_especial and saldo >= saque\n",
        "(saldo >= saque and saque <= limite) or (conta_especial and saldo >=saque)\n"
      ]
    }
  ]
}