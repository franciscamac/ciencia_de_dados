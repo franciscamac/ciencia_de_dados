{
  "nbformat": 4,
  "nbformat_minor": 0,
  "metadata": {
    "colab": {
      "provenance": [],
      "authorship_tag": "ABX9TyO5xRlOj3IbbV1KCDqgO7ED",
      "include_colab_link": true
    },
    "kernelspec": {
      "name": "python3",
      "display_name": "Python 3"
    },
    "language_info": {
      "name": "python"
    }
  },
  "cells": [
    {
      "cell_type": "markdown",
      "metadata": {
        "id": "view-in-github",
        "colab_type": "text"
      },
      "source": [
        "<a href=\"https://colab.research.google.com/github/franciscamac/ciencia_de_dados/blob/main/old_style_.ipynb\" target=\"_parent\"><img src=\"https://colab.research.google.com/assets/colab-badge.svg\" alt=\"Open In Colab\"/></a>"
      ]
    },
    {
      "cell_type": "code",
      "execution_count": null,
      "metadata": {
        "id": "xs0MOu1HVG9E"
      },
      "outputs": [],
      "source": [
        "nome = \"Francisca\"\n",
        "idade = 24\n",
        "profissao = \"Programadora\"\n",
        "linguagem = \"Python\"\n",
        "\n",
        "pessoa = {\"nome\": \"Francisca\", \"idade\": 24}\n",
        "\n",
        "PI = 3.14159\n",
        "\n",
        "print(\"Olá, me chamo %s. Eu tenho %d anos de idade, trabalho como %s e estou matriculado no curso de %s. %(nome, idade, profissao, linguagem)\")\n",
        "\n",
        "print(\"Ola, me chamo {3}. Eu tenho {2} anos de idade, trabalho como {1} e estou matriculado no curso de {0}\".format(linguagem, idade, profissao, nome))\n",
        "\n",
        "print(\"Olá, me chamo {nome}. Eu tenho {idade} anos de idade, trabalho como {profissao} e estou matriculado no curso de {linguagem}.\" .format(nome=nome, idade=idade, profissao=profissao, linguagem=linguagem))\n",
        "\n",
        "print(f'Olá, me chamo {nome}. Eu tenho {idade} anos de idade, trabalho como {profissao} e estou matricluado no curso de {linguagem}')\n",
        "\n",
        "print(\"Nome: {nome} || Idade: {idade}\" .format(**pessoa))\n",
        "\n",
        "print(f\"Valor de PI:  {PI:.2f}\")\n",
        "\n",
        "print(f\"Valor de PI: {PI:10.2f}\")"
      ]
    }
  ]
}