{
  "nbformat": 4,
  "nbformat_minor": 0,
  "metadata": {
    "colab": {
      "provenance": [],
      "authorship_tag": "ABX9TyMvjelfnohGBmemaEWN+mQD",
      "include_colab_link": true
    },
    "kernelspec": {
      "name": "python3",
      "display_name": "Python 3"
    },
    "language_info": {
      "name": "python"
    }
  },
  "cells": [
    {
      "cell_type": "markdown",
      "metadata": {
        "id": "view-in-github",
        "colab_type": "text"
      },
      "source": [
        "<a href=\"https://colab.research.google.com/github/franciscamac/ciencia_de_dados/blob/main/estruturas_repeticao_while.ipynb\" target=\"_parent\"><img src=\"https://colab.research.google.com/assets/colab-badge.svg\" alt=\"Open In Colab\"/></a>"
      ]
    },
    {
      "cell_type": "code",
      "execution_count": null,
      "metadata": {
        "id": "npLEs-CtR70B"
      },
      "outputs": [],
      "source": [
        "opcao = -1\n",
        "\n",
        "while opcao != 0:\n",
        "    opcao = int(input(\"[1] Sacar \\n[2] Extrato \\n[0] sair \\n: \"))\n",
        "\n",
        "    if opcao == 1:\n",
        "        print(\"Sacando...\")\n",
        "    elif opcao == 2:\n",
        "        print(\"Exibindo o extrato...\")\n",
        "else:\n",
        "    print(\"Obrigado por usar nosso sistema bancario, até logo!\")"
      ]
    }
  ]
}