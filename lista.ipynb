{
  "nbformat": 4,
  "nbformat_minor": 0,
  "metadata": {
    "colab": {
      "provenance": [],
      "authorship_tag": "ABX9TyPvaFp2C4FrawB+gnxzw4Lz",
      "include_colab_link": true
    },
    "kernelspec": {
      "name": "python3",
      "display_name": "Python 3"
    },
    "language_info": {
      "name": "python"
    }
  },
  "cells": [
    {
      "cell_type": "markdown",
      "metadata": {
        "id": "view-in-github",
        "colab_type": "text"
      },
      "source": [
        "<a href=\"https://colab.research.google.com/github/franciscamac/ciencia_de_dados/blob/main/lista.ipynb\" target=\"_parent\"><img src=\"https://colab.research.google.com/assets/colab-badge.svg\" alt=\"Open In Colab\"/></a>"
      ]
    },
    {
      "cell_type": "code",
      "execution_count": null,
      "metadata": {
        "id": "uExacbYxUIjO"
      },
      "outputs": [],
      "source": [
        "# append\n",
        "lista = []\n",
        "\n",
        "lista.append(1)\n",
        "lista.append(\"Python\")\n",
        "lista.append([40, 30, 20])\n",
        "\n",
        "print(lista) #[1, \"Python\", [40, 30, 20]]\n",
        "\n",
        "# clear\n",
        "\n",
        "lista = [1, \"Python\", [40, 30, 20]]\n",
        "print(lista) # [1, \"Python\", [40, 30, 20]]\n",
        "lista.clear()\n",
        "print(lista) #[]\n",
        "\n",
        "# copy\n",
        "lista = [1, \"Python\", [40, 30, 20]]\n",
        "lista.copy()\n",
        "\n",
        "#count\n",
        "cores = [\"vermelho\", \"azul\", \"verde\", \"azul\"]\n",
        "\n",
        "cores.count(\"vermelho\") #1\n",
        "cores.count(\"azul\") # 2\n",
        "cores.count(\"verde\") # 1\n",
        "\n",
        "# extend\n",
        "linguagens = [\"python\", \"js\", \"c\"]\n",
        "\n",
        "print(linguagens) #[\"python\", \"js\" \"c\"]\n",
        "linguagens.extend([\"Java\", \"csharp\"])\n",
        "print(linguagens) #[\"python\", \"js\", \"c\", \"java\", \"csharp\"]\n",
        "\n",
        "\n",
        "#index\n",
        "\n",
        "linguagens = [\"python\", \"js\", \"c\", \"java\", \"csharp\"]\n",
        "\n",
        "print(linguagens.index(\"java\"))\n",
        "print(linguagens.index(\"python\"))\n",
        "\n",
        "\n",
        "#pop\n",
        "linguagens = [\"python\", \"js\", \"c\", \"java\", \"csharp\"]\n",
        "\n",
        "linguagens.pop() # csharp\n",
        "linguagens.pop() # java\n",
        "linguagens.pop() # c\n",
        "linguagens.pop(0) # python\n",
        "\n",
        "#remove\n",
        "\n",
        "linguagens = [\"python\", \"js\", \"c\", \"java\", \"csharp\"]\n",
        "linguagens.remove(\"c\")\n",
        "print(linguagens)\n",
        "\n",
        "#reverse\n",
        "\n",
        "linguagens = [\"python\", \"js\", \"c\", \"java\", \"csharp\"]\n",
        "linguagens.reverse()\n",
        "print(linguagens) # [\"csharp\", \"java\", \"c\", \"js\", \"python\"]\n",
        "\n",
        "#sort = ordenamento\n",
        "linguagens = [\"python\", \"js\", \"c\", \"java\", \"csharp\"]\n",
        "\n",
        "linguagens.sort() # [\"c\",\"csharp\", \"java\", \"js\", \"python\"]\n",
        "\n",
        "linguagens.sort(reverse=True) # [\"python\", \"js\", \"java\", \"csharp\", \"c\"]\n",
        "\n",
        "linguagens.sort(key=lambda x: len(x)) #  [\"c\",\"js\", \"java\", \"python\", \"csharp\"]\n",
        "#ordenamento por tamanho\n",
        "linguagens.sort(key=lambda x: len(x), reverse=True) #  [\"python\",\"csharp\", \"java\", \"js\", \"c\"]\n",
        "\n",
        "#len TAMANHO DA LISTA\n",
        "\n",
        "linguagens = [\"python\", \"js\", \"c\", \"java\", \"csharp\"]\n",
        "len(linguagens) # 5\n",
        "\n",
        "#sorted ORDEM ALFABETICA"
      ]
    }
  ]
}