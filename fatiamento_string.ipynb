{
  "nbformat": 4,
  "nbformat_minor": 0,
  "metadata": {
    "colab": {
      "provenance": [],
      "authorship_tag": "ABX9TyOksLZJFf+MZxadeU/IWQBA",
      "include_colab_link": true
    },
    "kernelspec": {
      "name": "python3",
      "display_name": "Python 3"
    },
    "language_info": {
      "name": "python"
    }
  },
  "cells": [
    {
      "cell_type": "markdown",
      "metadata": {
        "id": "view-in-github",
        "colab_type": "text"
      },
      "source": [
        "<a href=\"https://colab.research.google.com/github/franciscamac/ciencia_de_dados/blob/main/fatiamento_string.ipynb\" target=\"_parent\"><img src=\"https://colab.research.google.com/assets/colab-badge.svg\" alt=\"Open In Colab\"/></a>"
      ]
    },
    {
      "cell_type": "code",
      "execution_count": null,
      "metadata": {
        "id": "e5n5mCozSlPa"
      },
      "outputs": [],
      "source": [
        "nome = \"Francisca Parente Macário\"\n",
        "\n",
        "print(nome[0])\n",
        "print(nome[-2])\n",
        "print(nome[:9])\n",
        "print(nome[10:])\n",
        "print(nome[10:16:2])\n",
        "print(nome[:])\n",
        "print(nome[::-1])"
      ]
    }
  ]
}