{
  "nbformat": 4,
  "nbformat_minor": 0,
  "metadata": {
    "colab": {
      "provenance": [],
      "authorship_tag": "ABX9TyP3e3zojIGoHKngHayMvaYa",
      "include_colab_link": true
    },
    "kernelspec": {
      "name": "python3",
      "display_name": "Python 3"
    },
    "language_info": {
      "name": "python"
    }
  },
  "cells": [
    {
      "cell_type": "markdown",
      "metadata": {
        "id": "view-in-github",
        "colab_type": "text"
      },
      "source": [
        "<a href=\"https://colab.research.google.com/github/franciscamac/ciencia_de_dados/blob/main/estruturas_condicionais1.ipynb\" target=\"_parent\"><img src=\"https://colab.research.google.com/assets/colab-badge.svg\" alt=\"Open In Colab\"/></a>"
      ]
    },
    {
      "cell_type": "code",
      "execution_count": null,
      "metadata": {
        "id": "LRBxNCvYRUU_"
      },
      "outputs": [],
      "source": [
        "MAIOR_IDADE =18\n",
        "IDADE_ESPECIAL = 12\n",
        "idade = int(input(\"Informe sua idade: \"))\n",
        "\n",
        "if idade >= 18:\n",
        "    print(\"Maior de idade, pode tirar a CNH.\")\n",
        "\n",
        "if idade <MAIOR_IDADE:\n",
        "    print(\"Ainda não pode tirar a CHN.\")\n",
        "\n",
        "if idade >= MAIOR_IDADE:\n",
        "    print(\"Maior de idade, pode tirar a CHN.\")\n",
        "else:\n",
        "    print(\"Ainda não pode tirar a CNH.\")\n",
        "\n",
        "if idade >= MAIOR_IDADE:\n",
        "    print(\"Maior de idade, pode tirar a CHN.\")\n",
        "elif idade >=IDADE_ESPECIAL:\n",
        "    print(\"pode fazer aulas teoricas, mas não aulas praticas\")\n",
        "else:\n",
        "\n",
        "    print(\"Ainda não pode tirar a CNH.\")"
      ]
    }
  ]
}