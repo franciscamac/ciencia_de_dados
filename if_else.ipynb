{
  "nbformat": 4,
  "nbformat_minor": 0,
  "metadata": {
    "colab": {
      "provenance": [],
      "authorship_tag": "ABX9TyN1bnrgpTz41l0PNEw25rzf",
      "include_colab_link": true
    },
    "kernelspec": {
      "name": "python3",
      "display_name": "Python 3"
    },
    "language_info": {
      "name": "python"
    }
  },
  "cells": [
    {
      "cell_type": "markdown",
      "metadata": {
        "id": "view-in-github",
        "colab_type": "text"
      },
      "source": [
        "<a href=\"https://colab.research.google.com/github/franciscamac/ciencia_de_dados/blob/main/if_else.ipynb\" target=\"_parent\"><img src=\"https://colab.research.google.com/assets/colab-badge.svg\" alt=\"Open In Colab\"/></a>"
      ]
    },
    {
      "cell_type": "code",
      "execution_count": null,
      "metadata": {
        "id": "s4kivccxTwfl"
      },
      "outputs": [],
      "source": [
        "saldo = 2000.0\n",
        "saque = float(input(\"Informe o valor do saque: \"))\n",
        "\n",
        "if saldo >= saque:\n",
        "    print(\"Realizando saque! \")\n",
        "\n",
        "else:\n",
        "    print(\"saldo insuficiente!\")"
      ]
    }
  ]
}